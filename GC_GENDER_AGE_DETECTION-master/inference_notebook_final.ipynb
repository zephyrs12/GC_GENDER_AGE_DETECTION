{
 "cells": [
  {
   "cell_type": "code",
   "execution_count": 2,
   "metadata": {},
   "outputs": [
    {
     "name": "stdout",
     "output_type": "stream",
     "text": [
      "WARNING:tensorflow:From c:\\Users\\Parth Magdum\\AppData\\Local\\Programs\\Python\\Python311\\Lib\\site-packages\\keras\\src\\losses.py:2976: The name tf.losses.sparse_softmax_cross_entropy is deprecated. Please use tf.compat.v1.losses.sparse_softmax_cross_entropy instead.\n",
      "\n"
     ]
    }
   ],
   "source": [
    "import cv2\n",
    "from tensorflow.keras.preprocessing.image import img_to_array\n",
    "import numpy as np\n",
    "import sys\n",
    "import csv\n"
   ]
  },
  {
   "cell_type": "code",
   "execution_count": 3,
   "metadata": {},
   "outputs": [
    {
     "name": "stdout",
     "output_type": "stream",
     "text": [
      "WARNING:tensorflow:From c:\\Users\\Parth Magdum\\AppData\\Local\\Programs\\Python\\Python311\\Lib\\site-packages\\keras\\src\\backend.py:1398: The name tf.executing_eagerly_outside_functions is deprecated. Please use tf.compat.v1.executing_eagerly_outside_functions instead.\n",
      "\n",
      "WARNING:tensorflow:From c:\\Users\\Parth Magdum\\AppData\\Local\\Programs\\Python\\Python311\\Lib\\site-packages\\keras\\src\\layers\\pooling\\max_pooling2d.py:161: The name tf.nn.max_pool is deprecated. Please use tf.nn.max_pool2d instead.\n",
      "\n"
     ]
    }
   ],
   "source": [
    "from keras.models import load_model\n",
    "model = load_model('gen_age_final.h5')\n"
   ]
  },
  {
   "cell_type": "markdown",
   "metadata": {},
   "source": [
    "# For Image Input"
   ]
  },
  {
   "cell_type": "code",
   "execution_count": 19,
   "metadata": {},
   "outputs": [],
   "source": [
    "def predict_age_gender_image(image_path, model):\n",
    "    image = cv2.imread(image_path)\n",
    "    gray = cv2.cvtColor(image, cv2.COLOR_BGR2GRAY)\n",
    "    \n",
    "    face_cascade = cv2.CascadeClassifier('haarcascade_frontalface_default.xml')\n",
    "    faces = face_cascade.detectMultiScale(gray, scaleFactor=1.1, minNeighbors=5, minSize=(30, 30), flags=cv2.CASCADE_SCALE_IMAGE)\n",
    "\n",
    "    if len(faces) == 0:\n",
    "        print(\"No faces detected.\")\n",
    "        return []\n",
    "\n",
    "    results = []\n",
    "\n",
    "    for (x, y, w, h) in faces[:5]: \n",
    "        face = gray[y:y+h, x:x+w]\n",
    "        face = cv2.resize(face, (48, 48))\n",
    "        face = face.reshape((1, 48, 48, 1))\n",
    "        face = face / 255.0  \n",
    "        \n",
    "        age, gender = model.predict(face)\n",
    "    \n",
    "        gender_str = \"Male\" if np.argmax(gender) == 0 else \"Female\"\n",
    "        results.append((gender_str, int(age[0][0])))\n",
    "    for i, (gender, age) in enumerate(results, start=0):\n",
    "        print(f\"For ({image_path}): Gender - {gender}, Age - {age}\")\n",
    "\n",
    "    return results\n"
   ]
  },
  {
   "cell_type": "markdown",
   "metadata": {},
   "source": [
    "## Assuming you have all images to be tested in a folder named \"test_images\""
   ]
  },
  {
   "cell_type": "code",
   "execution_count": 20,
   "metadata": {},
   "outputs": [
    {
     "name": "stdout",
     "output_type": "stream",
     "text": [
      "1/1 [==============================] - 0s 35ms/step\n",
      "For (test_images\\b1.jpeg): Gender - Male, Age - 30\n",
      "1/1 [==============================] - 0s 35ms/step\n",
      "For (test_images\\deepika_test_image.jpeg): Gender - Female, Age - 24\n",
      "1/1 [==============================] - 0s 43ms/step\n",
      "For (test_images\\download.jpeg): Gender - Female, Age - 23\n",
      "1/1 [==============================] - 0s 40ms/step\n",
      "For (test_images\\images (1).jpeg): Gender - Male, Age - 32\n",
      "1/1 [==============================] - 0s 52ms/step\n",
      "For (test_images\\images.jpeg): Gender - Female, Age - 22\n"
     ]
    }
   ],
   "source": [
    "import os\n",
    "\n",
    "folder_path = 'test_images'\n",
    "test_images = []\n",
    "\n",
    "for file_name in os.listdir(folder_path):\n",
    "    if file_name.endswith(('.jpg', '.jpeg', '.png', '.bmp')):\n",
    "        file_path = os.path.join(folder_path, file_name)\n",
    "        test_images.append(file_path)\n",
    "\n",
    "for img_path in test_images:\n",
    "    \n",
    "    predict_age_gender_image(img_path, model)\n"
   ]
  },
  {
   "cell_type": "markdown",
   "metadata": {},
   "source": [
    "# For Video Stream"
   ]
  },
  {
   "cell_type": "code",
   "execution_count": 4,
   "metadata": {},
   "outputs": [],
   "source": [
    "def detect_and_predict_age_gender_video(frame, face_cascade, model):\n",
    "    gray = cv2.cvtColor(frame, cv2.COLOR_BGR2GRAY)\n",
    "    faces = face_cascade.detectMultiScale(gray, scaleFactor=1.1, minNeighbors=5, minSize=(30, 30), flags=cv2.CASCADE_SCALE_IMAGE)\n",
    "\n",
    "    results = []\n",
    "\n",
    "    for idx, (x, y, w, h) in enumerate(faces[:5], start=1):  # Limiting to 5 faces per frame\n",
    "        face = gray[y:y+h, x:x+w]\n",
    "        face = cv2.resize(face, (48, 48))\n",
    "        face = face.reshape((1, 48, 48, 1))\n",
    "        face = face / 255.0\n",
    "\n",
    "        age, gender = model.predict([face, face])\n",
    "        gender_str = \"Male\" if np.argmax(gender) == 0 else \"Female\"\n",
    "        results.append((idx, (x, y), (x + w, y + h), gender_str, int(age[0][0])))\n",
    "\n",
    "    return results\n"
   ]
  },
  {
   "cell_type": "code",
   "execution_count": 112,
   "metadata": {},
   "outputs": [],
   "source": [
    "def process_video_stream(model):\n",
    "    face_cascade = cv2.CascadeClassifier('haarcascade_frontalface_default.xml')\n",
    "    cap = cv2.VideoCapture(0)  # Use 0 for the default camera\n",
    "    \n",
    "    frame_data = []\n",
    "    frame_number = 0\n",
    "    while True:\n",
    "        ret, frame = cap.read()\n",
    "        if not ret:\n",
    "            break\n",
    "\n",
    "        \n",
    "        predictions = detect_and_predict_age_gender_video(frame, face_cascade, model)\n",
    "\n",
    "        frame_info = {'Frame Number': frame_number}\n",
    "        for idx, (x1, y1), (x2, y2), gender, age in predictions:\n",
    "            face_info = {\n",
    "                f'Face {idx} Bottom Left coordinates': (x1, y1),\n",
    "                f'Face {idx} Top right coordinates': (x2, y2),\n",
    "                f'Face {idx} Gender': gender,\n",
    "                f'Face {idx} Age': age\n",
    "            }\n",
    "            frame_info.update(face_info)\n",
    "\n",
    "            cv2.rectangle(frame, (x1, y1), (x2, y2), (0, 255, 0), 2)\n",
    "            cv2.putText(frame, f\"{gender}, {age}\", (x1, y1-10), cv2.FONT_HERSHEY_SIMPLEX, 0.8, (0, 255, 0), 2)\n",
    "            \n",
    "        frame_data.append(frame_info)\n",
    "        cv2.imshow(\"Age and Gender Detection\", frame)\n",
    "        frame_number += 1\n",
    "\n",
    "        if cv2.waitKey(50) & 0xFF == ord('q'):  # Adjust the delay to control FPS\n",
    "            break\n",
    "\n",
    "    cap.release()\n",
    "    cv2.destroyAllWindows()\n",
    "\n",
    "    # Writing data to CSV file\n",
    "    with open('output_raw.csv', 'w', newline='') as csvfile:\n",
    "        fieldnames = ['Frame Number']\n",
    "        for idx in range(1, 6):\n",
    "            fieldnames.extend([f'Face {idx} Bottom Left coordinates', f'Face {idx} Top right coordinates', f'Face {idx} Gender', f'Face {idx} Age'])\n",
    "\n",
    "        writer = csv.DictWriter(csvfile, fieldnames=fieldnames)\n",
    "        writer.writeheader()\n",
    "\n",
    "        for frame_info in frame_data:\n",
    "            writer.writerow(frame_info)\n"
   ]
  },
  {
   "cell_type": "code",
   "execution_count": 113,
   "metadata": {},
   "outputs": [
    {
     "name": "stdout",
     "output_type": "stream",
     "text": [
      "1/1 [==============================] - 0s 56ms/step\n",
      "1/1 [==============================] - 0s 44ms/step\n",
      "1/1 [==============================] - 0s 39ms/step\n",
      "1/1 [==============================] - 0s 46ms/step\n",
      "1/1 [==============================] - 0s 41ms/step\n",
      "1/1 [==============================] - 0s 52ms/step\n",
      "1/1 [==============================] - 0s 47ms/step\n",
      "1/1 [==============================] - 0s 32ms/step\n",
      "1/1 [==============================] - 0s 36ms/step\n",
      "1/1 [==============================] - 0s 35ms/step\n",
      "1/1 [==============================] - 0s 49ms/step\n",
      "1/1 [==============================] - 0s 36ms/step\n",
      "1/1 [==============================] - 0s 49ms/step\n",
      "1/1 [==============================] - 0s 43ms/step\n",
      "1/1 [==============================] - 0s 43ms/step\n",
      "1/1 [==============================] - 0s 41ms/step\n",
      "1/1 [==============================] - 0s 43ms/step\n",
      "1/1 [==============================] - 0s 50ms/step\n",
      "1/1 [==============================] - 0s 46ms/step\n",
      "1/1 [==============================] - 0s 43ms/step\n",
      "1/1 [==============================] - 0s 33ms/step\n",
      "1/1 [==============================] - 0s 39ms/step\n",
      "1/1 [==============================] - 0s 31ms/step\n",
      "1/1 [==============================] - 0s 54ms/step\n",
      "1/1 [==============================] - 0s 46ms/step\n",
      "1/1 [==============================] - 0s 33ms/step\n",
      "1/1 [==============================] - 0s 36ms/step\n",
      "1/1 [==============================] - 0s 46ms/step\n",
      "1/1 [==============================] - 0s 41ms/step\n",
      "1/1 [==============================] - 0s 34ms/step\n",
      "1/1 [==============================] - 0s 42ms/step\n",
      "1/1 [==============================] - 0s 44ms/step\n",
      "1/1 [==============================] - 0s 44ms/step\n",
      "1/1 [==============================] - 0s 38ms/step\n",
      "1/1 [==============================] - 0s 54ms/step\n",
      "1/1 [==============================] - 0s 36ms/step\n",
      "1/1 [==============================] - 0s 40ms/step\n",
      "1/1 [==============================] - 0s 38ms/step\n",
      "1/1 [==============================] - 0s 33ms/step\n",
      "1/1 [==============================] - 0s 59ms/step\n",
      "1/1 [==============================] - 0s 42ms/step\n",
      "1/1 [==============================] - 0s 33ms/step\n",
      "1/1 [==============================] - 0s 42ms/step\n",
      "1/1 [==============================] - 0s 44ms/step\n",
      "1/1 [==============================] - 0s 34ms/step\n",
      "1/1 [==============================] - 0s 36ms/step\n",
      "1/1 [==============================] - 0s 34ms/step\n",
      "1/1 [==============================] - 0s 36ms/step\n"
     ]
    }
   ],
   "source": [
    "process_video_stream(model)\n"
   ]
  },
  {
   "cell_type": "markdown",
   "metadata": {},
   "source": [
    "## Ouput CSV File in required format saved to \"output.csv\""
   ]
  },
  {
   "cell_type": "code",
   "execution_count": 114,
   "metadata": {},
   "outputs": [],
   "source": [
    "import csv\n",
    "\n",
    "def interchange_rows_columns(input_file, output_file):\n",
    "    with open(input_file, 'r', newline='') as csvfile:\n",
    "        reader = csv.reader(csvfile)\n",
    "        data = list(reader)\n",
    "\n",
    "    transposed_data = list(map(list, zip(*data)))\n",
    "\n",
    "    for row in transposed_data:\n",
    "        for i, value in enumerate(row):\n",
    "            if value == 'Male':\n",
    "                row[i] = 1\n",
    "            elif value == 'Female':\n",
    "                row[i] = 0\n",
    "\n",
    "    with open(output_file, 'w', newline='') as csvfile:\n",
    "        writer = csv.writer(csvfile)\n",
    "        for row in transposed_data:\n",
    "            writer.writerow(row)\n",
    "\n",
    "input_file = 'output_raw.csv'\n",
    "output_file = 'output.csv' # Output file in asked format with 1 for Male and 0 for Female\n",
    "interchange_rows_columns(input_file, output_file)\n"
   ]
  },
  {
   "cell_type": "markdown",
   "metadata": {},
   "source": [
    "## Age MSE and Gender Accuracy Testing of video stream data"
   ]
  },
  {
   "cell_type": "code",
   "execution_count": 115,
   "metadata": {},
   "outputs": [],
   "source": [
    "import pandas as pd\n",
    "df = pd.read_csv('output_raw.csv')\n",
    "df.dropna(how='all')\n",
    "df.to_csv('output_raw.csv', index = False)\n"
   ]
  },
  {
   "cell_type": "markdown",
   "metadata": {},
   "source": [
    "## For Age MSE"
   ]
  },
  {
   "cell_type": "code",
   "execution_count": 116,
   "metadata": {},
   "outputs": [
    {
     "name": "stdout",
     "output_type": "stream",
     "text": [
      "Face 1 MSE: 101.25\n",
      "Average Mean Squared Error (MSE) for Age up to 1 faces: 101.25\n"
     ]
    }
   ],
   "source": [
    "import pandas as pd\n",
    "from sklearn.metrics import mean_squared_error\n",
    "\n",
    "\n",
    "actual_ages_input = input(\"Provide list of Actual ages of people tested on (space-separated): \")\n",
    "actual_ages = [int(age.strip()) for age in actual_ages_input.split(\" \")]\n",
    "\n",
    "mse_values = []\n",
    "for i, actual_age in enumerate(actual_ages, start=1):\n",
    "    predicted_col = f'Face {i} Age'\n",
    "    if predicted_col in df.columns:\n",
    "        predicted_values = df[predicted_col].apply(pd.to_numeric, errors='coerce').dropna()\n",
    "        if len(predicted_values) > 0:\n",
    "            mse = mean_squared_error([actual_age] * len(predicted_values), predicted_values)\n",
    "            mse_values.append(mse)\n",
    "\n",
    "if mse_values:\n",
    "    average_mse = sum(mse_values) / len(mse_values)\n",
    "else:\n",
    "    average_mse = 0 \n",
    "\n",
    "for i,mse in enumerate(mse_values):\n",
    "    print(f\"Face {i + 1} MSE: {mse}\")\n",
    "\n",
    "print(f\"Average Mean Squared Error (MSE) for Age up to {len(actual_ages)} faces:\", average_mse)\n"
   ]
  },
  {
   "cell_type": "markdown",
   "metadata": {},
   "source": [
    "## For Gender Accuracy"
   ]
  },
  {
   "cell_type": "code",
   "execution_count": 117,
   "metadata": {},
   "outputs": [
    {
     "name": "stdout",
     "output_type": "stream",
     "text": [
      "Face 1 Gender Accuracy: 100.00%\n",
      "Average Gender accuracy for up to 1 faces: 100.00%\n"
     ]
    }
   ],
   "source": [
    "male_female_counts = {}\n",
    "for col in df.columns:\n",
    "    if col.startswith('Face') and col.endswith('Gender'):\n",
    "        face_number = int(col.split()[1])\n",
    "        counts = df[col].value_counts()\n",
    "        male_female_counts[face_number] = {'Male': counts.get('Male', 0), 'Female': counts.get('Female', 0)}\n",
    "\n",
    "\n",
    "actual_genders_input = input(\"Provide list of Actual Gender of people tested on (space-separated): like 'M F M'\")\n",
    "actual_genders_coded = actual_genders_input.split(' ')\n",
    "actual_genders = ['Male' if actual_gender == 'M' else 'Female' for actual_gender in actual_genders_coded]\n",
    "\n",
    "accuracy = []\n",
    "for face_number, counts in male_female_counts.items():\n",
    "    face_number -= 1  \n",
    "    accuracy.append(counts[actual_genders[face_number]] / sum(counts.values())) \n",
    "    if face_number == len(actual_genders) - 1:  \n",
    "        break\n",
    "for face_number, acc in enumerate(accuracy):\n",
    "    print(f\"Face {face_number + 1} Gender Accuracy: {acc:.2%}\")\n",
    "\n",
    "average_accuracy = sum(accuracy)/len(accuracy)\n",
    "print(f\"Average Gender accuracy for up to {len(actual_genders)} faces: {average_accuracy:.2%}\")\n"
   ]
  },
  {
   "cell_type": "code",
   "execution_count": null,
   "metadata": {},
   "outputs": [],
   "source": []
  }
 ],
 "metadata": {
  "colab": {
   "provenance": []
  },
  "kernelspec": {
   "display_name": "Python 3 (ipykernel)",
   "language": "python",
   "name": "python3"
  },
  "language_info": {
   "codemirror_mode": {
    "name": "ipython",
    "version": 3
   },
   "file_extension": ".py",
   "mimetype": "text/x-python",
   "name": "python",
   "nbconvert_exporter": "python",
   "pygments_lexer": "ipython3",
   "version": "3.11.5"
  }
 },
 "nbformat": 4,
 "nbformat_minor": 4
}
